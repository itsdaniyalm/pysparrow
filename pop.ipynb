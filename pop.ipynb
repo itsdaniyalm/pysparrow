{
 "cells": [
  {
   "cell_type": "code",
   "execution_count": 1,
   "id": "3dc24b2d",
   "metadata": {},
   "outputs": [],
   "source": [
    "import pandas as pd"
   ]
  },
  {
   "cell_type": "code",
   "execution_count": 4,
   "id": "f4be3edc",
   "metadata": {},
   "outputs": [],
   "source": [
    "df = pd.read_csv(\"population.csv\")"
   ]
  },
  {
   "cell_type": "code",
   "execution_count": 7,
   "id": "2189f423",
   "metadata": {},
   "outputs": [
    {
     "name": "stdout",
     "output_type": "stream",
     "text": [
      "   Rank        City  Population 2020  Population 2021  Difference\n",
      "0     1     Karachi            16.09            16.46        0.37\n",
      "1     2      Lahore            12.64            13.10        0.45\n",
      "2     3  Faisalabad             3.46             3.54        0.08\n",
      "3     4  Gujranwala             2.23             2.29        0.06\n",
      "4     5  Rawalpindi             2.24             2.28        0.00\n"
     ]
    }
   ],
   "source": [
    "print(df)"
   ]
  },
  {
   "cell_type": "code",
   "execution_count": 9,
   "id": "6f65d730",
   "metadata": {},
   "outputs": [
    {
     "data": {
      "text/plain": [
       "0       Karachi\n",
       "1        Lahore\n",
       "2    Faisalabad\n",
       "3    Gujranwala\n",
       "4    Rawalpindi\n",
       "Name: City, dtype: object"
      ]
     },
     "execution_count": 9,
     "metadata": {},
     "output_type": "execute_result"
    }
   ],
   "source": [
    "df.City"
   ]
  },
  {
   "cell_type": "code",
   "execution_count": 14,
   "id": "8d88d28e",
   "metadata": {},
   "outputs": [
    {
     "data": {
      "text/plain": [
       "0    16.09\n",
       "1    12.64\n",
       "2     3.46\n",
       "3     2.23\n",
       "4     2.24\n",
       "Name: Population 2020, dtype: float64"
      ]
     },
     "execution_count": 14,
     "metadata": {},
     "output_type": "execute_result"
    }
   ],
   "source": [
    "df['Population 2020']"
   ]
  },
  {
   "cell_type": "code",
   "execution_count": 15,
   "id": "070b7519",
   "metadata": {},
   "outputs": [
    {
     "ename": "NameError",
     "evalue": "name 'false' is not defined",
     "output_type": "error",
     "traceback": [
      "\u001b[1;31m---------------------------------------------------------------------------\u001b[0m",
      "\u001b[1;31mNameError\u001b[0m                                 Traceback (most recent call last)",
      "\u001b[1;32m~\\AppData\\Local\\Temp\\ipykernel_19712\\597109210.py\u001b[0m in \u001b[0;36m<module>\u001b[1;34m\u001b[0m\n\u001b[1;32m----> 1\u001b[1;33m \u001b[0mdf2\u001b[0m \u001b[1;33m=\u001b[0m \u001b[0mdf\u001b[0m\u001b[1;33m.\u001b[0m\u001b[0mcopy\u001b[0m\u001b[1;33m(\u001b[0m\u001b[0mindex\u001b[0m \u001b[1;33m=\u001b[0m \u001b[0mfalse\u001b[0m\u001b[1;33m)\u001b[0m\u001b[1;33m\u001b[0m\u001b[1;33m\u001b[0m\u001b[0m\n\u001b[0m",
      "\u001b[1;31mNameError\u001b[0m: name 'false' is not defined"
     ]
    }
   ],
   "source": [
    "df2 = df.copy(index = false)"
   ]
  },
  {
   "cell_type": "code",
   "execution_count": 16,
   "id": "d5ee4652",
   "metadata": {},
   "outputs": [],
   "source": [
    "df = df.reset_index(drop=True)"
   ]
  },
  {
   "cell_type": "code",
   "execution_count": 17,
   "id": "5c29433a",
   "metadata": {},
   "outputs": [
    {
     "data": {
      "text/html": [
       "<div>\n",
       "<style scoped>\n",
       "    .dataframe tbody tr th:only-of-type {\n",
       "        vertical-align: middle;\n",
       "    }\n",
       "\n",
       "    .dataframe tbody tr th {\n",
       "        vertical-align: top;\n",
       "    }\n",
       "\n",
       "    .dataframe thead th {\n",
       "        text-align: right;\n",
       "    }\n",
       "</style>\n",
       "<table border=\"1\" class=\"dataframe\">\n",
       "  <thead>\n",
       "    <tr style=\"text-align: right;\">\n",
       "      <th></th>\n",
       "      <th>Rank</th>\n",
       "      <th>City</th>\n",
       "      <th>Population 2020</th>\n",
       "      <th>Population 2021</th>\n",
       "      <th>Difference</th>\n",
       "    </tr>\n",
       "  </thead>\n",
       "  <tbody>\n",
       "    <tr>\n",
       "      <th>0</th>\n",
       "      <td>1</td>\n",
       "      <td>Karachi</td>\n",
       "      <td>16.09</td>\n",
       "      <td>16.46</td>\n",
       "      <td>0.37</td>\n",
       "    </tr>\n",
       "    <tr>\n",
       "      <th>1</th>\n",
       "      <td>2</td>\n",
       "      <td>Lahore</td>\n",
       "      <td>12.64</td>\n",
       "      <td>13.10</td>\n",
       "      <td>0.45</td>\n",
       "    </tr>\n",
       "    <tr>\n",
       "      <th>2</th>\n",
       "      <td>3</td>\n",
       "      <td>Faisalabad</td>\n",
       "      <td>3.46</td>\n",
       "      <td>3.54</td>\n",
       "      <td>0.08</td>\n",
       "    </tr>\n",
       "    <tr>\n",
       "      <th>3</th>\n",
       "      <td>4</td>\n",
       "      <td>Gujranwala</td>\n",
       "      <td>2.23</td>\n",
       "      <td>2.29</td>\n",
       "      <td>0.06</td>\n",
       "    </tr>\n",
       "    <tr>\n",
       "      <th>4</th>\n",
       "      <td>5</td>\n",
       "      <td>Rawalpindi</td>\n",
       "      <td>2.24</td>\n",
       "      <td>2.28</td>\n",
       "      <td>0.00</td>\n",
       "    </tr>\n",
       "  </tbody>\n",
       "</table>\n",
       "</div>"
      ],
      "text/plain": [
       "   Rank        City  Population 2020  Population 2021  Difference\n",
       "0     1     Karachi            16.09            16.46        0.37\n",
       "1     2      Lahore            12.64            13.10        0.45\n",
       "2     3  Faisalabad             3.46             3.54        0.08\n",
       "3     4  Gujranwala             2.23             2.29        0.06\n",
       "4     5  Rawalpindi             2.24             2.28        0.00"
      ]
     },
     "execution_count": 17,
     "metadata": {},
     "output_type": "execute_result"
    }
   ],
   "source": [
    "df"
   ]
  },
  {
   "cell_type": "code",
   "execution_count": 19,
   "id": "7fea8aeb",
   "metadata": {},
   "outputs": [],
   "source": [
    "city = df['City'].to_list()\n",
    "pop_2020 = df['Population 2020'].to_list()"
   ]
  },
  {
   "cell_type": "code",
   "execution_count": 20,
   "id": "99f43625",
   "metadata": {},
   "outputs": [
    {
     "data": {
      "text/plain": [
       "['Karachi', 'Lahore', 'Faisalabad', 'Gujranwala', 'Rawalpindi']"
      ]
     },
     "execution_count": 20,
     "metadata": {},
     "output_type": "execute_result"
    }
   ],
   "source": [
    "city"
   ]
  },
  {
   "cell_type": "code",
   "execution_count": 21,
   "id": "6c4f16bc",
   "metadata": {},
   "outputs": [
    {
     "data": {
      "text/plain": [
       "[16.09, 12.64, 3.46, 2.23, 2.24]"
      ]
     },
     "execution_count": 21,
     "metadata": {},
     "output_type": "execute_result"
    }
   ],
   "source": [
    "pop_2020"
   ]
  }
 ],
 "metadata": {
  "kernelspec": {
   "display_name": "Python 3 (ipykernel)",
   "language": "python",
   "name": "python3"
  },
  "language_info": {
   "codemirror_mode": {
    "name": "ipython",
    "version": 3
   },
   "file_extension": ".py",
   "mimetype": "text/x-python",
   "name": "python",
   "nbconvert_exporter": "python",
   "pygments_lexer": "ipython3",
   "version": "3.7.15"
  }
 },
 "nbformat": 4,
 "nbformat_minor": 5
}
